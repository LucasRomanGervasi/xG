{
 "cells": [
  {
   "cell_type": "code",
   "execution_count": 1,
   "id": "8bb1c538",
   "metadata": {},
   "outputs": [],
   "source": [
    "from statsbombpy import sb\n",
    "import numpy as np\n",
    "import pandas as pd\n",
    "from tqdm import tqdm\n",
    "from mplsoccer import Sbopen\n",
    "parser = Sbopen()"
   ]
  },
  {
   "cell_type": "code",
   "execution_count": null,
   "id": "73e0df20",
   "metadata": {},
   "outputs": [],
   "source": [
    "#Obtenemos los id de las competiciones\n",
    "competitions = sb.competitions()\n",
    "\n",
    "# Filtrar las competiciones con competition_id\n",
    "# 16 Champions League  \n",
    "competition_16 = competitions[competitions['competition_id'] == 16]\n",
    "# 9 Bundesliga\n",
    "competition_9 = competitions[competitions['competition_id'] == 9]\n",
    "# 11 La Liga\n",
    "competition_11 = competitions[competitions['competition_id'] == 11]\n",
    "# #Premier League\n",
    "competition_2 = competitions[competitions['competition_id'] == 2]\n",
    "# #Serie A\n",
    "competition_12 = competitions[competitions['competition_id'] == 12]\n",
    "# # Ligue 1\n",
    "competition_7 = competitions[competitions['competition_id'] == 7]\n",
    "\n",
    "unique_season_ids = competition_16['season_id'].nunique()\n",
    "print(f\"Número de season_id únicos: {unique_season_ids}\")\n",
    "pd.DataFrame(competitions)"
   ]
  },
  {
   "cell_type": "code",
   "execution_count": null,
   "id": "d29e188e",
   "metadata": {},
   "outputs": [],
   "source": [
    "#Champions League\n",
    "champions_league_seasons1 = sb.matches(competition_id=16, season_id=4)  \n",
    "champions_league_seasons2 = sb.matches(competition_id=16, season_id=2)\n",
    "champions_league_seasons3 = sb.matches(competition_id=16, season_id=1)\n",
    "champions_league_seasons4 = sb.matches(competition_id=16, season_id=27)\n",
    "champions_league_seasons5 = sb.matches(competition_id=16, season_id=26)\n",
    "champions_league_seasons6 = sb.matches(competition_id=16, season_id=25)\n",
    "champions_league_seasons7 = sb.matches(competition_id=16, season_id=24)  \n",
    "champions_league_seasons8 = sb.matches(competition_id=16, season_id=21)\n",
    "champions_league_seasons9 = sb.matches(competition_id=16, season_id=23)\n",
    "champions_league_seasons10 = sb.matches(competition_id=16, season_id=22)\n",
    "champions_league_seasons11 = sb.matches(competition_id=16, season_id=276)\n",
    "champions_league_seasons12 = sb.matches(competition_id=16, season_id=41)\n",
    "champions_league_seasons13 = sb.matches(competition_id=16, season_id=39)\n",
    "champions_league_seasons14 = sb.matches(competition_id=16, season_id=37)\n",
    "champions_league_seasons15 = sb.matches(competition_id=16, season_id=44)\n",
    "champions_league_seasons16 = sb.matches(competition_id=16, season_id=76)\n",
    "champions_league_seasons17 = sb.matches(competition_id=16, season_id=277)\n",
    "champions_league_seasons18 = sb.matches(competition_id=16, season_id=71)\n",
    "champions_league_seasons18 = sb.matches(competition_id=16, season_id=276)\n",
    "\n",
    "#Premier League\n",
    "premierleague_seasons1 = sb.matches(competition_id=2, season_id=44)\n",
    "premierleague_seasons2 = sb.matches(competition_id=2, season_id=27)\n",
    "\n",
    "#Serie A\n",
    "seriea_seasons1 = sb.matches(competition_id=12, season_id=27)\n",
    "seriea_seasons2 = sb.matches(competition_id=12, season_id=86)\n",
    "\n",
    "#Ligue 1\n",
    "leagueone_seasons1 = sb.matches(competition_id=7, season_id=235)\n",
    "leagueone_seasons2 = sb.matches(competition_id=7, season_id=108)\n",
    "\n",
    "#Bundesliga\n",
    "bundesliga_seasons1 = sb.matches(competition_id=9, season_id=281)\n",
    "bundesliga_seasons2 = sb.matches(competition_id=9, season_id=27)\n",
    "\n",
    "#La liga\n",
    "laliga_seasons1 = sb.matches(competition_id=11, season_id=90)\n",
    "laliga_seasons2 = sb.matches(competition_id=11, season_id=42)\n",
    "laliga_seasons3 = sb.matches(competition_id=11, season_id=4)\n",
    "laliga_seasons4 = sb.matches(competition_id=11, season_id=1)\n",
    "laliga_seasons5 = sb.matches(competition_id=11, season_id=2)\n",
    "laliga_seasons7 = sb.matches(competition_id=11, season_id=27)\n",
    "laliga_seasons6 = sb.matches(competition_id=11, season_id=26)\n",
    "\n",
    "# #Datos de Mundiales\n",
    "mundial_season1 = sb.matches(competition_id=43, season_id=3)  \n",
    "mundial_season2 = sb.matches(competition_id=43, season_id=55)\n",
    "mundial_season3 = sb.matches(competition_id=43, season_id=54)\n",
    "mundial_season4 = sb.matches(competition_id=43, season_id=51)\n",
    "mundial_season5 = sb.matches(competition_id=43, season_id=272)\n",
    "mundial_season6 = sb.matches(competition_id=43, season_id=269)\n",
    "mundial_season7 = sb.matches(competition_id=43, season_id=106)  \n",
    "mundial_season8 = sb.matches(competition_id=43, season_id=270)\n",
    "\n",
    "\n",
    "matchids_competitions = (\n",
    "    champions_league_seasons1.match_id.to_list() +\n",
    "    champions_league_seasons2.match_id.to_list() +\n",
    "    champions_league_seasons3.match_id.to_list() +\n",
    "    champions_league_seasons4.match_id.to_list() +\n",
    "    champions_league_seasons5.match_id.to_list() +\n",
    "    champions_league_seasons6.match_id.to_list() +\n",
    "    champions_league_seasons7.match_id.to_list() +\n",
    "    champions_league_seasons8.match_id.to_list() +\n",
    "    champions_league_seasons9.match_id.to_list() +\n",
    "    champions_league_seasons10.match_id.to_list() +\n",
    "    champions_league_seasons11.match_id.to_list() +\n",
    "    champions_league_seasons12.match_id.to_list() +\n",
    "    champions_league_seasons13.match_id.to_list() +\n",
    "    champions_league_seasons14.match_id.to_list() +\n",
    "    champions_league_seasons15.match_id.to_list() +\n",
    "    champions_league_seasons16.match_id.to_list() +\n",
    "    champions_league_seasons17.match_id.to_list() +\n",
    "    champions_league_seasons18.match_id.to_list() +\n",
    "    premierleague_seasons1.match_id.to_list() +\n",
    "    premierleague_seasons2.match_id.to_list() +\n",
    "    seriea_seasons1.match_id.to_list() +\n",
    "    seriea_seasons2.match_id.to_list() +\n",
    "    leagueone_seasons1.match_id.to_list() +\n",
    "    leagueone_seasons2.match_id.to_list() +\n",
    "    bundesliga_seasons1.match_id.to_list() +  \n",
    "    bundesliga_seasons2.match_id.to_list() +\n",
    "    laliga_seasons1.match_id.to_list() +     \n",
    "    laliga_seasons2.match_id.to_list() +\n",
    "    laliga_seasons3.match_id.to_list() +\n",
    "    laliga_seasons4.match_id.to_list() +\n",
    "    laliga_seasons5.match_id.to_list() +\n",
    "    laliga_seasons6.match_id.to_list() +\n",
    "    laliga_seasons7.match_id.to_list() + \n",
    "    mundial_season1.match_id.to_list() +\n",
    "    mundial_season2.match_id.to_list() +\n",
    "    mundial_season3.match_id.to_list() +\n",
    "    mundial_season4.match_id.to_list() +\n",
    "    mundial_season5.match_id.to_list() +\n",
    "    mundial_season6.match_id.to_list() +\n",
    "    mundial_season7.match_id.to_list() +\n",
    "    mundial_season8.match_id.to_list()\n",
    ")\n"
   ]
  },
  {
   "cell_type": "code",
   "execution_count": null,
   "id": "45ebf8d7",
   "metadata": {},
   "outputs": [],
   "source": [
    "# Inicializar un DataFrame vacío para almacenar los eventos\n",
    "eventos = pd.DataFrame()\n",
    "\n",
    "# Iterar sobre los IDs de los partidos\n",
    "for x in tqdm(range(0, len(matchids_competitions))):\n",
    "    try:\n",
    "        partido = sb.events(match_id=matchids_competitions[x])  # Obtener los eventos del partido\n",
    "        remates = partido[partido.type == 'Shot']  # Filtrar solo los remates\n",
    "        # Concatenar todos los eventos al DataFrame total\n",
    "        eventos = pd.concat([eventos, remates], ignore_index=True)\n",
    "        print(eventos.shape)  # Mostrar el tamaño actual del DataFrame\n",
    "    except Exception as e:\n",
    "        print(f\"Error al procesar match_id {matchids_competitions[x]}: {e}\")\n",
    "\n",
    "# Guardar el DataFrame resultante en un archivo CSV\n",
    "eventos.to_csv('eventosremates.csv', index=False)"
   ]
  },
  {
   "cell_type": "code",
   "execution_count": null,
   "id": "1115f546",
   "metadata": {},
   "outputs": [],
   "source": [
    "# Obtener un match_id válido de tus datos\n",
    "sample_match_id = matchids_competitions[0]  # Usa el primer match_id como ejemplo\n",
    "\n",
    "# Obtener los eventos del partido\n",
    "events = sb.events(match_id=sample_match_id)\n",
    "\n",
    "# Mostrar los tipos de eventos únicos\n",
    "print(f\"Tipos de eventos disponibles: {events['type'].unique()}\")"
   ]
  },
  {
   "cell_type": "code",
   "execution_count": null,
   "id": "f26a8f1e",
   "metadata": {},
   "outputs": [],
   "source": [
    "# # Inicializar un DataFrame vacío para almacenar los remates\n",
    "eventos = pd.read_csv('eventosremates.csv')\n",
    "pd.DataFrame(eventos)\n",
    "\n",
    "print(f\"El DataFrame tiene {eventos.shape[0]} filas y {eventos.shape[1]} columnas.\")\n",
    "print(f\"Las columnas son: {eventos.columns.tolist()}\")\n",
    "print(f\"Las primeras filas del DataFrame son:\\n{eventos.head()}\")\n",
    "# Contar columnas numéricas\n",
    "num_cols = eventos.select_dtypes(include=['number']).columns\n",
    "print(f\"Número de columnas numéricas: {len(num_cols)}\")\n",
    "\n",
    "# Contar columnas categóricas (object, category, bool)\n",
    "cat_cols = eventos.select_dtypes(include=['object', 'category', 'bool']).columns\n",
    "print(f\"Número de columnas categóricas: {len(cat_cols)}\")\n",
    "print(f\"Información del dataset: {eventos.info()}\")"
   ]
  },
  {
   "cell_type": "code",
   "execution_count": null,
   "id": "a149b0ef",
   "metadata": {},
   "outputs": [],
   "source": [
    "# Separamos x e y de la variable Location\n",
    "import ast\n",
    "\n",
    "# Función segura para convertir solo si es string\n",
    "def parse_location(val):\n",
    "    if isinstance(val, str):\n",
    "        return ast.literal_eval(val)\n",
    "    return val  # Si ya es lista, la devuelve tal cual\n",
    "\n",
    "# Aplicar la función a la columna location\n",
    "eventos['location'] = eventos['location'].apply(parse_location)\n",
    "\n",
    "# Separar en columnas x e y\n",
    "eventos[['x', 'y']] = eventos['location'].apply(pd.Series)\n",
    "\n",
    "# Guardar el DataFrame completo\n",
    "eventos.to_csv('remates.csv', index=False)"
   ]
  },
  {
   "cell_type": "code",
   "execution_count": null,
   "id": "d9adaacb",
   "metadata": {},
   "outputs": [],
   "source": [
    "# Comparo con el dataset de Jugadores \n",
    "\n",
    "StatsbombPlayers = pd.read_csv('Statsbomb.csv')\n",
    "remates = pd.read_csv('remates.csv')\n",
    "# Asegurarse que ambas columnas sean del mismo tipo\n",
    "remates[\"player_id\"] = remates[\"player_id\"].astype(str)\n",
    "StatsbombPlayers[\"player_id_statsbomb\"] = StatsbombPlayers[\"player_id_statsbomb\"].astype(str)\n",
    "\n",
    "# Jugadores en común\n",
    "jugadores_en_comun = remates[\"player_id\"].isin(StatsbombPlayers[\"player_id_statsbomb\"])\n",
    "\n",
    "# Contar cuántos registros de remates_tot tienen un id que está en StatsbombPlayers\n",
    "print(\"Registros de remates_tot con player en StatsbombPlayers:\", jugadores_en_comun.sum())\n",
    "\n",
    "# O ver cuántos jugadores únicos coinciden\n",
    "jugadores_comunes = set(remates[\"player_id\"]) & set(StatsbombPlayers[\"player_id_statsbomb\"])\n",
    "# print(\"Cantidad de jugadores únicos que coinciden:\", len(jugadores_comunes)) \n",
    "pd.DataFrame(StatsbombPlayers)"
   ]
  },
  {
   "cell_type": "code",
   "execution_count": null,
   "id": "c577ef41",
   "metadata": {},
   "outputs": [
    {
     "name": "stdout",
     "output_type": "stream",
     "text": [
      "0    3531.0\n",
      "1    3091.0\n",
      "2    3664.0\n",
      "3    3531.0\n",
      "4    3531.0\n",
      "Name: player_id, dtype: object\n",
      "0    3062.0\n",
      "1    3062.0\n",
      "2    3062.0\n",
      "3    3062.0\n",
      "4    3062.0\n",
      "Name: player_id_statsbomb, dtype: object\n",
      "Coinciden 26302 player_id entre remates y StatsbombPlayers\n"
     ]
    }
   ],
   "source": [
    "# Comparo con el dataset de Jugadores \n",
    "\n",
    "print(remates['player_id'].head())\n",
    "print(StatsbombPlayers['player_id_statsbomb'].head())\n",
    "\n",
    "# ¿Cuántos player_id hacen match?\n",
    "coinciden = remates['player_id'].isin(StatsbombPlayers['player_id_statsbomb']).sum()\n",
    "print(f\"Coinciden {coinciden} player_id entre remates y StatsbombPlayers\")"
   ]
  },
  {
   "cell_type": "code",
   "execution_count": null,
   "id": "c4122487",
   "metadata": {},
   "outputs": [
    {
     "name": "stdout",
     "output_type": "stream",
     "text": [
      "Cantidad con pie dominante: 26294\n",
      "  player_id players_foot\n",
      "0      3531         left\n",
      "1      3091        right\n",
      "2      3664        right\n",
      "3      3531         left\n",
      "4      3531         left\n"
     ]
    }
   ],
   "source": [
    "# Comparo con el dataset de Jugadores \n",
    "\n",
    "remates = remates[remates['player_id'].apply(lambda x: pd.notna(x) and str(x).replace('.', '', 1).isdigit())]\n",
    "StatsbombPlayers = StatsbombPlayers[StatsbombPlayers['player_id_statsbomb'].apply(lambda x: pd.notna(x) and str(x).replace('.', '', 1).isdigit())]\n",
    "\n",
    "# Convertir a int y luego a str de forma segura\n",
    "remates['player_id'] = remates['player_id'].astype(float).astype(int).astype(str)\n",
    "StatsbombPlayers['player_id_statsbomb'] = StatsbombPlayers['player_id_statsbomb'].astype(float).astype(int).astype(str)\n",
    "\n",
    "# Eliminar columna duplicada si ya existía\n",
    "if 'players_foot' in remates.columns:\n",
    "    remates.drop(columns=['players_foot'], inplace=True)\n",
    "\n",
    "# Preparar el foot_info sin duplicados\n",
    "foot_info = StatsbombPlayers[['player_id_statsbomb', 'players_foot']].drop_duplicates()\n",
    "\n",
    "# Merge\n",
    "remates = remates.merge(\n",
    "    foot_info,\n",
    "    left_on='player_id',\n",
    "    right_on='player_id_statsbomb',\n",
    "    how='left'\n",
    ")\n",
    "\n",
    "# Limpiar\n",
    "remates.drop(columns=['player_id_statsbomb'], inplace=True)\n",
    "\n",
    "# Guardar CSV\n",
    "remates.to_csv('remates.csv', index=False)\n",
    "\n",
    "# Verificación\n",
    "print(\"Cantidad con pie dominante:\", remates['players_foot'].notna().sum())\n",
    "print(remates[['player_id', 'players_foot']].dropna().head())"
   ]
  },
  {
   "cell_type": "code",
   "execution_count": null,
   "id": "db2f339e",
   "metadata": {},
   "outputs": [],
   "source": [
    "# Creación de columnas \n",
    "\n",
    "# Crear una nueva columna 'goal' que indica si el disparo terminó en gol\n",
    "# Si el resultado del disparo ('shot_outcome') es 'Goal', se asigna 1; de lo contrario, 0\n",
    "remates['goal'] = np.where(remates['shot_outcome'] == 'Goal', 1, 0)\n",
    "\n",
    "# Calcular la distancia desde el punto del disparo hasta el centro del arco\n",
    "# El arco está ubicado en (120, 40) en el campo\n",
    "remates['distance'] = np.sqrt(np.square(120 - remates['x']) + np.square(40 - remates['y']))\n",
    "\n",
    "# Calcular el ángulo del disparo hacia el arco\n",
    "# Utiliza la tangente inversa (arctan) para calcular el ángulo basado en la posición del disparo\n",
    "# El ancho del arco es de 7.32 metros\n",
    "remates['angle'] = np.arctan(\n",
    "    7.32 * remates['x'] /\n",
    "    (remates['x']**2 + remates['y']**2 - (7.32/2)**2))\n",
    "\n",
    "\n",
    "##Convierte el angulo de radianes a grados\n",
    "remates['angle_degrees'] = np.degrees(remates['angle'])\n",
    "\n",
    "##Se fija si el tiro es en el area\n",
    "remates['shot_area'] = np.where((remates['x'] > 102) & (remates['y'] > 18) & (remates['y'] < 62), True, False) \n",
    "\n",
    "remates.to_csv('remates.csv', index=False)\n",
    "pd.DataFrame(remates)"
   ]
  },
  {
   "cell_type": "code",
   "execution_count": null,
   "id": "9a3265a4",
   "metadata": {},
   "outputs": [],
   "source": [
    "# Eliminar columnas relacionadas con goalkeeper\n",
    "remates.drop(columns=[\n",
    "    'goalkeeper_body_part',\n",
    "    'goalkeeper_end_location',\n",
    "    'goalkeeper_outcome',\n",
    "    'goalkeeper_position',\n",
    "    'goalkeeper_punched_out',\n",
    "    'goalkeeper_technique',\n",
    "    'goalkeeper_type',\n",
    "    'goalkeeper_shot_saved_off_target',\n",
    "    'goalkeeper_shot_saved_to_post',\n",
    "    'goalkeeper_success_out',\n",
    "    'goalkeeper_success_in_play',\n",
    "    'goalkeeper_lost_out',\n",
    "    'goalkeeper_lost_in_play',\n",
    "    'goalkeeper_saved_to_post',\n",
    "    'goalkeeper_penalty_saved_to_post'\n",
    "], inplace=True)\n",
    "\n",
    "#Elimina las columnas relacionadas a los pases\n",
    "remates.drop(columns=['pass_aerial_won',\n",
    "    'pass_angle',\n",
    "    'pass_assisted_shot_id',\n",
    "    'pass_body_part',\n",
    "    'pass_cross',\n",
    "    'pass_cut_back',\n",
    "    'pass_deflected',\n",
    "    'pass_end_location',\n",
    "    'pass_goal_assist',\n",
    "    'pass_height',\n",
    "    'pass_inswinging',\n",
    "    'pass_length',\n",
    "    'pass_outcome',\n",
    "    'pass_outswinging',\n",
    "    'pass_recipient',\n",
    "    'pass_recipient_id',\n",
    "    'pass_shot_assist',\n",
    "    'pass_straight',\n",
    "    'pass_switch',\n",
    "    'pass_technique',\n",
    "    'pass_through_ball',\n",
    "    'pass_type',\n",
    "    'pass_backheel',\n",
    "    'pass_miscommunication',\n",
    "    'pass_no_touch'], inplace=True)\n",
    "\n",
    "# Eliminar columnas relacionadas con foul\n",
    "remates.drop(columns=[\n",
    "    'foul_committed_advantage',\n",
    "    'foul_committed_offensive',\n",
    "    'foul_committed_penalty',\n",
    "    'foul_committed_type',\n",
    "    'foul_won_advantage',\n",
    "    'foul_won_defensive',\n",
    "    'foul_committed_card',\n",
    "    'foul_won_penalty'\n",
    "], inplace=True)\n",
    "\n",
    "# Eliminar columnas relacionadas con clearance\n",
    "remates.drop(columns=[\n",
    "    'clearance_aerial_won',\n",
    "    'clearance_body_part',\n",
    "    'clearance_head',\n",
    "    'clearance_left_foot',\n",
    "    'clearance_other',\n",
    "    'clearance_right_foot'\n",
    "], inplace=True)\n",
    "\n",
    "# Eliminar columnas relacionadas con dribble\n",
    "remates.drop(columns=[\n",
    "    'dribble_nutmeg',\n",
    "    'dribble_outcome',\n",
    "    'dribble_overrun'\n",
    "], inplace=True)\n",
    "\n",
    "# Eliminar columnas relacionadas con duel\n",
    "remates.drop(columns=[\n",
    "    'duel_outcome',\n",
    "    'duel_type'\n",
    "], inplace=True)\n",
    "\n",
    "# Eliminar otras columnas específicas\n",
    "remates.drop(columns=[\n",
    "    '50_50',\n",
    "    'ball_receipt_outcome',\n",
    "    'ball_recovery_recovery_failure',\n",
    "    'block_deflection',\n",
    "    'block_offensive',\n",
    "    'carry_end_location',\n",
    "    'counterpress',  \n",
    "    'interception_outcome',\n",
    "    'substitution_replacement_id',\n",
    "    'substitution_replacement',\n",
    "    'substitution_outcome_id',\n",
    "    'substitution_outcome',\n",
    "    'out',\n",
    "    'off_camera',\n",
    "    'tactics',\n",
    "    'bad_behaviour_card',\n",
    "    'injury_stoppage_in_chain',\n",
    "    'ball_recovery_offensive',\n",
    "    'block_save_block',\n",
    "    'dribble_no_touch',\n",
    "    'half_start_late_video_start',\n",
    "    'miscontrol_aerial_won',\n",
    "    'player_off_permanent',\n",
    "    'shot_statsbomb_xg'\n",
    "], inplace=True)\n",
    "\n",
    "# Guardar DataFrame limpio en CSV\n",
    "remates.to_csv('remates.csv', index=False)\n"
   ]
  },
  {
   "cell_type": "code",
   "execution_count": null,
   "id": "07f00d95",
   "metadata": {},
   "outputs": [
    {
     "name": "stderr",
     "output_type": "stream",
     "text": [
      "C:\\Users\\Lucas Roman Gervasi\\AppData\\Local\\Temp\\ipykernel_21308\\3940215992.py:5: FutureWarning: Downcasting object dtype arrays on .fillna, .ffill, .bfill is deprecated and will change in a future version. Call result.infer_objects(copy=False) instead. To opt-in to the future behavior, set `pd.set_option('future.no_silent_downcasting', True)`\n",
      "  remates['shot_aerial_won'] = remates['shot_aerial_won'].fillna(False)  # Si no se especifica, se asume que no fue ganado en el aire\n",
      "C:\\Users\\Lucas Roman Gervasi\\AppData\\Local\\Temp\\ipykernel_21308\\3940215992.py:6: FutureWarning: Downcasting object dtype arrays on .fillna, .ffill, .bfill is deprecated and will change in a future version. Call result.infer_objects(copy=False) instead. To opt-in to the future behavior, set `pd.set_option('future.no_silent_downcasting', True)`\n",
      "  remates['shot_first_time'] = remates['shot_first_time'].fillna(False)  # Si no se especifica, se asume que no fue de primera\n",
      "C:\\Users\\Lucas Roman Gervasi\\AppData\\Local\\Temp\\ipykernel_21308\\3940215992.py:7: FutureWarning: Downcasting object dtype arrays on .fillna, .ffill, .bfill is deprecated and will change in a future version. Call result.infer_objects(copy=False) instead. To opt-in to the future behavior, set `pd.set_option('future.no_silent_downcasting', True)`\n",
      "  remates['shot_one_on_one'] = remates['shot_one_on_one'].fillna(False)  # Si no se especifica, se asume que no fue mano a mano\n",
      "C:\\Users\\Lucas Roman Gervasi\\AppData\\Local\\Temp\\ipykernel_21308\\3940215992.py:8: FutureWarning: Downcasting object dtype arrays on .fillna, .ffill, .bfill is deprecated and will change in a future version. Call result.infer_objects(copy=False) instead. To opt-in to the future behavior, set `pd.set_option('future.no_silent_downcasting', True)`\n",
      "  remates['shot_open_goal'] = remates['shot_open_goal'].fillna(False)    # Si no se especifica, se asume que no fue a arco vacío\n",
      "C:\\Users\\Lucas Roman Gervasi\\AppData\\Local\\Temp\\ipykernel_21308\\3940215992.py:9: FutureWarning: Downcasting object dtype arrays on .fillna, .ffill, .bfill is deprecated and will change in a future version. Call result.infer_objects(copy=False) instead. To opt-in to the future behavior, set `pd.set_option('future.no_silent_downcasting', True)`\n",
      "  remates['shot_deflected'] = remates['shot_deflected'].fillna(False)    # Si no se especifica, se asume que no fue desviado\n",
      "C:\\Users\\Lucas Roman Gervasi\\AppData\\Local\\Temp\\ipykernel_21308\\3940215992.py:10: FutureWarning: Downcasting object dtype arrays on .fillna, .ffill, .bfill is deprecated and will change in a future version. Call result.infer_objects(copy=False) instead. To opt-in to the future behavior, set `pd.set_option('future.no_silent_downcasting', True)`\n",
      "  remates['under_pressure'] = remates['under_pressure'].fillna(False)  # Si no se especifica, se asume que no estaba bajo presión\n",
      "C:\\Users\\Lucas Roman Gervasi\\AppData\\Local\\Temp\\ipykernel_21308\\3940215992.py:11: FutureWarning: Downcasting object dtype arrays on .fillna, .ffill, .bfill is deprecated and will change in a future version. Call result.infer_objects(copy=False) instead. To opt-in to the future behavior, set `pd.set_option('future.no_silent_downcasting', True)`\n",
      "  remates['shot_redirect'] = remates['shot_redirect'].fillna(False)    # Si no se especifica, se asume que no fue un disparo desviado\n",
      "C:\\Users\\Lucas Roman Gervasi\\AppData\\Local\\Temp\\ipykernel_21308\\3940215992.py:12: FutureWarning: Downcasting object dtype arrays on .fillna, .ffill, .bfill is deprecated and will change in a future version. Call result.infer_objects(copy=False) instead. To opt-in to the future behavior, set `pd.set_option('future.no_silent_downcasting', True)`\n",
      "  remates['shot_saved_off_target'] = remates['shot_saved_off_target'].fillna(False)  # Si no se especifica, se asume que no fue guardado fuera del objetivo\n",
      "C:\\Users\\Lucas Roman Gervasi\\AppData\\Local\\Temp\\ipykernel_21308\\3940215992.py:13: FutureWarning: Downcasting object dtype arrays on .fillna, .ffill, .bfill is deprecated and will change in a future version. Call result.infer_objects(copy=False) instead. To opt-in to the future behavior, set `pd.set_option('future.no_silent_downcasting', True)`\n",
      "  remates['shot_saved_to_post'] = remates['shot_saved_to_post'].fillna(False)  # Si no se especifica, se asume que no fue guardado en el poste\n",
      "C:\\Users\\Lucas Roman Gervasi\\AppData\\Local\\Temp\\ipykernel_21308\\3940215992.py:14: FutureWarning: Downcasting object dtype arrays on .fillna, .ffill, .bfill is deprecated and will change in a future version. Call result.infer_objects(copy=False) instead. To opt-in to the future behavior, set `pd.set_option('future.no_silent_downcasting', True)`\n",
      "  remates['shot_follows_dribble'] = remates['shot_follows_dribble'].fillna(False)  # Si no se especifica, se asume que no siguió un drible\n"
     ]
    }
   ],
   "source": [
    "##Realiza un filtro a remates \n",
    "# Rellenar valores faltantes (NaN) en columnas booleanas con False\n",
    "# Esto asegura que no haya valores nulos en estas columnas\n",
    "\n",
    "remates['shot_aerial_won'] = remates['shot_aerial_won'].fillna(False)  # Si no se especifica, se asume que no fue ganado en el aire\n",
    "remates['shot_first_time'] = remates['shot_first_time'].fillna(False)  # Si no se especifica, se asume que no fue de primera\n",
    "remates['shot_one_on_one'] = remates['shot_one_on_one'].fillna(False)  # Si no se especifica, se asume que no fue mano a mano\n",
    "remates['shot_open_goal'] = remates['shot_open_goal'].fillna(False)    # Si no se especifica, se asume que no fue a arco vacío\n",
    "remates['shot_deflected'] = remates['shot_deflected'].fillna(False)    # Si no se especifica, se asume que no fue desviado\n",
    "remates['under_pressure'] = remates['under_pressure'].fillna(False)  # Si no se especifica, se asume que no estaba bajo presión\n",
    "remates['shot_redirect'] = remates['shot_redirect'].fillna(False)    # Si no se especifica, se asume que no fue un disparo desviado\n",
    "remates['shot_saved_off_target'] = remates['shot_saved_off_target'].fillna(False)  # Si no se especifica, se asume que no fue guardado fuera del objetivo\n",
    "remates['shot_saved_to_post'] = remates['shot_saved_to_post'].fillna(False)  # Si no se especifica, se asume que no fue guardado en el poste\n",
    "remates['shot_follows_dribble'] = remates['shot_follows_dribble'].fillna(False)  # Si no se especifica, se asume que no siguió un drible\n"
   ]
  },
  {
   "cell_type": "code",
   "execution_count": null,
   "id": "34368ab4",
   "metadata": {},
   "outputs": [],
   "source": [
    "pd.DataFrame(remates)\n",
    "\n",
    "print(f\"El DataFrame tiene {remates.shape[0]} filas y {remates.shape[1]} columnas.\")\n",
    "print(f\"Las columnas son: {remates.columns.tolist()}\")\n",
    "print(f\"Las primeras filas del DataFrame son:\\n{remates.head()}\")\n",
    "# Contar columnas numéricas\n",
    "num_cols = remates.select_dtypes(include=['number']).columns\n",
    "print(f\"Número de columnas numéricas: {len(num_cols)}\")\n",
    "\n",
    "# Contar columnas categóricas (object, category, bool)\n",
    "cat_cols = remates.select_dtypes(include=['object', 'category', 'bool']).columns\n",
    "print(f\"Número de columnas categóricas: {len(cat_cols)}\")\n",
    "print(f\"Información del dataset: {remates.info()}\")\n"
   ]
  },
  {
   "cell_type": "code",
   "execution_count": null,
   "id": "966e0f61",
   "metadata": {},
   "outputs": [],
   "source": [
    "import ast\n",
    "\n",
    "import numpy as np\n",
    "\n",
    "# ---- Función segura ----\n",
    "def parse_location(val):\n",
    "    if isinstance(val, str):\n",
    "        return ast.literal_eval(val)\n",
    "    return val\n",
    "\n",
    "remates['shot_freeze_frame'] = remates['shot_freeze_frame'].apply(parse_location)\n",
    "\n",
    "# ---- Coordenadas StatsBomb ----\n",
    "goal_x = 120\n",
    "goal_y_min = 36\n",
    "goal_y_max = 44\n",
    "tolerancia_x = 2\n",
    "\n",
    "# ---- Área chica ----\n",
    "area_chica_x_min = 120 - 6\n",
    "area_chica_x_max = 120\n",
    "area_chica_y_min = 36\n",
    "area_chica_y_max = 44\n",
    "\n",
    "# ---- Función: detectar arquero en el arco ----\n",
    "def is_goalkeeper_in_goal(freeze_frame):\n",
    "    goalkeeper_positions = []\n",
    "    in_goal = False\n",
    "\n",
    "    if isinstance(freeze_frame, list):\n",
    "        for player in freeze_frame:\n",
    "            if not player.get('teammate', True) and player['position']['name'] == 'Goalkeeper':\n",
    "                x, y = player['location']\n",
    "                goalkeeper_positions.append({'x': x, 'y': y})\n",
    "                if (x >= goal_x - tolerancia_x) and (goal_y_min <= y <= goal_y_max):\n",
    "                    in_goal = True\n",
    "\n",
    "    return in_goal, goalkeeper_positions\n",
    "\n",
    "# ---- Función: jugadores dentro del área chica ----\n",
    "def players_in_small_box(freeze_frame):\n",
    "    players_positions = []\n",
    "\n",
    "    if isinstance(freeze_frame, list):\n",
    "        for player in freeze_frame:\n",
    "            if player['position']['name'] != 'Goalkeeper':\n",
    "                x, y = player['location']\n",
    "                if area_chica_x_min <= x <= area_chica_x_max and area_chica_y_min <= y <= area_chica_y_max:\n",
    "                    players_positions.append({\n",
    "                        'name': player['position']['name'],\n",
    "                        'teammate': player.get('teammate', None),\n",
    "                        'x': x,\n",
    "                        'y': y\n",
    "                    })\n",
    "\n",
    "    return len(players_positions), players_positions\n",
    "\n",
    "def players_blocking_shot(freeze_frame, x_shot, y_shot, tolerance_y=2):\n",
    "    blocking_players = []\n",
    "\n",
    "    if isinstance(freeze_frame, list):\n",
    "        for player in freeze_frame:\n",
    "            x, y = player['location']\n",
    "            teammate = player.get('teammate', False)\n",
    "            pos_name = player['position']['name']\n",
    "\n",
    "            # Si es arquero rival, lo consideramos bloqueando aunque no esté dentro del margen vertical\n",
    "            if not teammate and pos_name == 'Goalkeeper':\n",
    "                blocking_players.append({'name': pos_name, 'teammate': False, 'x': x, 'y': y})\n",
    "                continue\n",
    "\n",
    "            # Jugadores “normales”\n",
    "            if x_shot <= x <= goal_x and abs(y - y_shot) <= tolerance_y:\n",
    "                blocking_players.append({'name': pos_name, 'teammate': teammate, 'x': x, 'y': y})\n",
    "\n",
    "    return len(blocking_players), blocking_players\n",
    "\n",
    "# ---- Aplicar y guardar directamente en remates ----\n",
    "remates[['goalkeeper_ingoal', 'goalkeeper_positions']] = remates['shot_freeze_frame'].apply(\n",
    "    lambda ff: pd.Series(is_goalkeeper_in_goal(ff))\n",
    ")\n",
    "\n",
    "remates[['players_in_box', 'players_positions_in_box']] = remates['shot_freeze_frame'].apply(\n",
    "    lambda ff: pd.Series(players_in_small_box(ff))\n",
    ")\n",
    "\n",
    "remates['any_player_in_box'] = remates['players_in_box'] > 0\n",
    "\n",
    "remates[['players_blocking', 'players_positions_blocking']] = remates.apply(\n",
    "    lambda row: pd.Series(players_blocking_shot(row['shot_freeze_frame'], row['x'], row['y'])),\n",
    "    axis=1\n",
    ")\n",
    "\n",
    "remates['any_player_blocking'] = remates['players_blocking'] > 0\n",
    "\n",
    "\n",
    "\n",
    "def min_dist_blockers(row):\n",
    "    x_shot, y_shot = row['x'], row['y']\n",
    "    lst = row['players_positions_blocking']\n",
    "    if not lst:\n",
    "        return np.nan\n",
    "    return min(np.sqrt((x_shot - p['x'])**2 + (y_shot - p['y'])**2) for p in lst)\n",
    "\n",
    "remates['min_dist_blocking'] = remates.apply(min_dist_blockers, axis=1)\n",
    "\n",
    "\n",
    "# ---- Guardar (opcional) ----\n",
    "remates.to_csv('remates.csv', index=False)\n",
    "\n",
    "# ---- Verificación ----\n",
    "print(remates[['goalkeeper_ingoal', 'goalkeeper_positions', 'players_in_box', 'players_positions_in_box']].head())\n"
   ]
  },
  {
   "cell_type": "code",
   "execution_count": null,
   "id": "46aa02de",
   "metadata": {},
   "outputs": [],
   "source": [
    "def es_pie_habil(row):\n",
    "    if row['shot_body_part'] == 'Left Foot' and row['players_foot'] == 'left':\n",
    "        return True\n",
    "    elif row['shot_body_part'] == 'Right Foot' and row['players_foot'] == 'right':\n",
    "        return True\n",
    "    elif row['shot_body_part'] in ['Left Foot', 'Right Foot']:\n",
    "        return False\n",
    "    else:\n",
    "        return np.nan  \n",
    "\n",
    "remates['habil_shot'] = remates.apply(es_pie_habil, axis=1)\n",
    "remates.to_csv('remates.csv', index=False)"
   ]
  },
  {
   "cell_type": "code",
   "execution_count": null,
   "id": "fc1e59b1",
   "metadata": {},
   "outputs": [],
   "source": [
    "def categorizar_parte(row):\n",
    "    if row['shot_body_part'] in ['Left Foot', 'Right Foot']:\n",
    "        return 'foot'\n",
    "    elif row['shot_body_part'] == 'Head':\n",
    "        return 'head'\n",
    "    else:\n",
    "        return 'other'\n",
    "\n",
    "remates['body_part_category'] = remates.apply(categorizar_parte, axis=1)\n",
    "body_part_encoded = pd.get_dummies(remates['body_part_category'], prefix='bodypart')"
   ]
  },
  {
   "cell_type": "code",
   "execution_count": null,
   "id": "79eda1e5",
   "metadata": {},
   "outputs": [],
   "source": [
    "# Reasignar 'play_pattern' cuando sea 'Other' y 'shot_type' sea 'Penalty' directamente en remates\n",
    "mask = (remates['play_pattern'] == 'Other') & (remates['shot_type'] == 'Penalty')\n",
    "remates.loc[mask, 'play_pattern'] = 'Penalty'\n",
    "\n",
    "# Guardar el DataFrame modificado\n",
    "remates.to_csv('remates.csv', index=False)"
   ]
  },
  {
   "cell_type": "code",
   "execution_count": null,
   "id": "52cce5d3",
   "metadata": {},
   "outputs": [
    {
     "name": "stdout",
     "output_type": "stream",
     "text": [
      "Valores nulos por columna:\n",
      "players_foot              0\n",
      "shot_body_part            0\n",
      "habil_shot             5521\n",
      "body_part_category        0\n",
      "play_pattern              0\n",
      "players_blocking          0\n",
      "any_player_blocking       0\n",
      "any_player_in_box         0\n",
      "players_in_box            0\n",
      "dtype: int64\n",
      "\n",
      "Total de filas: 35315\n"
     ]
    }
   ],
   "source": [
    "# Ver cuántos valores faltantes hay en columnas relevantes\n",
    "print(\"Valores nulos por columna:\")\n",
    "print(remates[['players_foot', 'shot_body_part', 'habil_shot', 'body_part_category', 'play_pattern',\n",
    "    'players_blocking',\n",
    "    'any_player_blocking',\n",
    "    'any_player_in_box',\n",
    "    'players_in_box','min_dist_blocking']].isna().sum())\n",
    "\n",
    "# Tamaño total\n",
    "print(\"\\nTotal de filas:\", len(remates))"
   ]
  },
  {
   "cell_type": "code",
   "execution_count": null,
   "id": "ac874094",
   "metadata": {},
   "outputs": [],
   "source": [
    "remates['players_foot'] = remates['players_foot'].fillna('unknown')\n",
    "remates['habil_shot'] = remates['habil_shot'].fillna('unknown')\n",
    "remates['goalkeeper_ingoal'] = remates['goalkeeper_ingoal'].fillna(False)\n",
    "remates['play_pattern'] = remates['play_pattern'].fillna('unknown')\n",
    "\n",
    "# ---- Llenar NaN en columnas numéricas o booleanas ----\n",
    "remates['players_blocking'] = remates['players_blocking'].fillna(0)\n",
    "remates['any_player_blocking'] = remates['any_player_blocking'].fillna(False)\n",
    "remates['players_in_box'] = remates['players_in_box'].fillna(0)\n",
    "remates['any_player_in_box'] = remates['any_player_in_box'].fillna(False)\n",
    "remates['min_dist_blocking'] = remates['min_dist_blocking'].fillna(-1)  # Usar -1 para indicar ausencia de jugadores bloqueando\n",
    "# ---- Guardar a CSV ----\n",
    "remates.to_csv('remates.csv', index=False)"
   ]
  },
  {
   "cell_type": "code",
   "execution_count": null,
   "id": "0efdbeb2",
   "metadata": {},
   "outputs": [],
   "source": [
    "pd.DataFrame(remates)\n",
    "\n",
    "print(f\"El DataFrame tiene {remates.shape[0]} filas y {remates.shape[1]} columnas.\")\n",
    "print(f\"Las columnas son: {remates.columns.tolist()}\")\n",
    "print(f\"Las primeras filas del DataFrame son:\\n{remates.head()}\")\n",
    "# Contar columnas numéricas\n",
    "num_cols = remates.select_dtypes(include=['number']).columns\n",
    "print(f\"Número de columnas numéricas: {len(num_cols)}\")\n",
    "\n",
    "# Contar columnas categóricas (object, category, bool)\n",
    "cat_cols = remates.select_dtypes(include=['object', 'category', 'bool']).columns\n",
    "print(f\"Número de columnas categóricas: {len(cat_cols)}\")\n",
    "print(f\"Información del dataset: {remates.info()}\")"
   ]
  },
  {
   "cell_type": "code",
   "execution_count": null,
   "id": "21258476",
   "metadata": {},
   "outputs": [
    {
     "data": {
      "application/vnd.microsoft.datawrangler.viewer.v0+json": {
       "columns": [
        {
         "name": "index",
         "rawType": "object",
         "type": "string"
        },
        {
         "name": "0",
         "rawType": "int64",
         "type": "integer"
        }
       ],
       "ref": "89a59c9b-8423-4297-8b1b-87b2a019a24c",
       "rows": [
        [
         "duration",
         "0"
        ],
        [
         "id",
         "0"
        ],
        [
         "index",
         "0"
        ],
        [
         "location",
         "0"
        ],
        [
         "match_id",
         "0"
        ],
        [
         "minute",
         "0"
        ],
        [
         "period",
         "0"
        ],
        [
         "play_pattern",
         "0"
        ],
        [
         "player",
         "0"
        ],
        [
         "player_id",
         "0"
        ],
        [
         "position",
         "0"
        ],
        [
         "possession",
         "0"
        ],
        [
         "possession_team",
         "0"
        ],
        [
         "possession_team_id",
         "0"
        ],
        [
         "related_events",
         "0"
        ],
        [
         "second",
         "0"
        ],
        [
         "shot_aerial_won",
         "0"
        ],
        [
         "shot_body_part",
         "0"
        ],
        [
         "shot_end_location",
         "0"
        ],
        [
         "shot_first_time",
         "0"
        ],
        [
         "shot_freeze_frame",
         "461"
        ],
        [
         "shot_key_pass_id",
         "10026"
        ],
        [
         "shot_outcome",
         "0"
        ],
        [
         "shot_technique",
         "0"
        ],
        [
         "shot_type",
         "0"
        ],
        [
         "team",
         "0"
        ],
        [
         "team_id",
         "0"
        ],
        [
         "timestamp",
         "0"
        ],
        [
         "type",
         "0"
        ],
        [
         "under_pressure",
         "0"
        ],
        [
         "shot_deflected",
         "0"
        ],
        [
         "shot_one_on_one",
         "0"
        ],
        [
         "shot_redirect",
         "0"
        ],
        [
         "shot_open_goal",
         "0"
        ],
        [
         "shot_saved_off_target",
         "0"
        ],
        [
         "shot_saved_to_post",
         "0"
        ],
        [
         "shot_follows_dribble",
         "0"
        ],
        [
         "x",
         "0"
        ],
        [
         "y",
         "0"
        ],
        [
         "players_foot",
         "0"
        ],
        [
         "goal",
         "0"
        ],
        [
         "distance",
         "0"
        ],
        [
         "angle",
         "0"
        ],
        [
         "angle_degrees",
         "0"
        ],
        [
         "shot_area",
         "0"
        ],
        [
         "players_in_box",
         "0"
        ],
        [
         "any_player_in_box",
         "0"
        ],
        [
         "goalkeeper_ingoal",
         "0"
        ],
        [
         "goalkeeper_data",
         "0"
        ],
        [
         "goalkeeper_positions",
         "0"
        ]
       ],
       "shape": {
        "columns": 1,
        "rows": 58
       }
      },
      "text/plain": [
       "duration                          0\n",
       "id                                0\n",
       "index                             0\n",
       "location                          0\n",
       "match_id                          0\n",
       "minute                            0\n",
       "period                            0\n",
       "play_pattern                      0\n",
       "player                            0\n",
       "player_id                         0\n",
       "position                          0\n",
       "possession                        0\n",
       "possession_team                   0\n",
       "possession_team_id                0\n",
       "related_events                    0\n",
       "second                            0\n",
       "shot_aerial_won                   0\n",
       "shot_body_part                    0\n",
       "shot_end_location                 0\n",
       "shot_first_time                   0\n",
       "shot_freeze_frame               461\n",
       "shot_key_pass_id              10026\n",
       "shot_outcome                      0\n",
       "shot_technique                    0\n",
       "shot_type                         0\n",
       "team                              0\n",
       "team_id                           0\n",
       "timestamp                         0\n",
       "type                              0\n",
       "under_pressure                    0\n",
       "shot_deflected                    0\n",
       "shot_one_on_one                   0\n",
       "shot_redirect                     0\n",
       "shot_open_goal                    0\n",
       "shot_saved_off_target             0\n",
       "shot_saved_to_post                0\n",
       "shot_follows_dribble              0\n",
       "x                                 0\n",
       "y                                 0\n",
       "players_foot                      0\n",
       "goal                              0\n",
       "distance                          0\n",
       "angle                             0\n",
       "angle_degrees                     0\n",
       "shot_area                         0\n",
       "players_in_box                    0\n",
       "any_player_in_box                 0\n",
       "goalkeeper_ingoal                 0\n",
       "goalkeeper_data                   0\n",
       "goalkeeper_positions              0\n",
       "players_in_box_data               0\n",
       "players_positions_in_box          0\n",
       "habil_shot                        0\n",
       "body_part_category                0\n",
       "players_blocking                  0\n",
       "players_positions_blocking        0\n",
       "any_player_blocking               0\n",
       "min_dist_blocking                 0\n",
       "dtype: int64"
      ]
     },
     "execution_count": 45,
     "metadata": {},
     "output_type": "execute_result"
    }
   ],
   "source": [
    "remates.isna().sum()"
   ]
  },
  {
   "cell_type": "code",
   "execution_count": null,
   "id": "0c24ed9e",
   "metadata": {},
   "outputs": [],
   "source": [
    "# # Inicializar un DataFrame vacío para almacenar los remates\n",
    "eventos_pases = pd.read_csv('eventospases.csv')\n",
    "pd.DataFrame(eventos_pases)\n",
    "\n",
    "print(f\"El DataFrame tiene {eventos.shape[0]} filas y {eventos.shape[1]} columnas.\")\n",
    "print(f\"Las columnas son: {eventos.columns.tolist()}\")\n",
    "print(f\"Las primeras filas del DataFrame son:\\n{eventos.head()}\")\n",
    "# Contar columnas numéricas\n",
    "num_cols = eventos.select_dtypes(include=['number']).columns\n",
    "print(f\"Número de columnas numéricas: {len(num_cols)}\")\n",
    "\n",
    "# Contar columnas categóricas (object, category, bool)\n",
    "cat_cols = eventos.select_dtypes(include=['object', 'category', 'bool']).columns\n",
    "print(f\"Número de columnas categóricas: {len(cat_cols)}\")\n",
    "print(f\"Información del dataset: {eventos.info()}\")"
   ]
  }
 ],
 "metadata": {
  "kernelspec": {
   "display_name": "Python 3",
   "language": "python",
   "name": "python3"
  },
  "language_info": {
   "codemirror_mode": {
    "name": "ipython",
    "version": 3
   },
   "file_extension": ".py",
   "mimetype": "text/x-python",
   "name": "python",
   "nbconvert_exporter": "python",
   "pygments_lexer": "ipython3",
   "version": "3.12.4"
  }
 },
 "nbformat": 4,
 "nbformat_minor": 5
}
